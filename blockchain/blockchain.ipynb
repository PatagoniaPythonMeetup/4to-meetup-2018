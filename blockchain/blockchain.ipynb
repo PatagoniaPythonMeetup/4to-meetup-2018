{
 "cells": [
  {
   "cell_type": "markdown",
   "metadata": {
    "slideshow": {
     "slide_type": "slide"
    }
   },
   "source": [
    "# Introducción a Blockchain con Python \n",
    "## \"Desahumando\" el concepto"
   ]
  },
  {
   "cell_type": "markdown",
   "metadata": {
    "slideshow": {
     "slide_type": "fragment"
    }
   },
   "source": [
    "## Por Luciano Serruya Aloisi\n",
    "\n",
    "### Sábado 15 de Diciembre, 2018"
   ]
  },
  {
   "cell_type": "markdown",
   "metadata": {
    "slideshow": {
     "slide_type": "fragment"
    }
   },
   "source": [
    "#### Repositorio $\\rightarrow$ https://github.com/LucianoFromTrelew/meetup-blockchain"
   ]
  },
  {
   "cell_type": "markdown",
   "metadata": {
    "slideshow": {
     "slide_type": "slide"
    }
   },
   "source": [
    "# Introducción\n",
    "\n",
    "- Concepto introducido en el 2008 por el paper *Bitcoin: A Peer-to-Peer Electronic Cash System*\n",
    "- Creado por *Satoshi Nakamoto*\n",
    "- Comenzó siendo la plataforma de bitcoin, luego fue usado para otras criptomonedas y aplicaciones"
   ]
  },
  {
   "cell_type": "markdown",
   "metadata": {
    "slideshow": {
     "slide_type": "slide"
    }
   },
   "source": [
    "# ¿Qué es blockchain?"
   ]
  },
  {
   "cell_type": "markdown",
   "metadata": {
    "slideshow": {
     "slide_type": "fragment"
    }
   },
   "source": [
    "- **AyP II**: lista enlazada, donde los bloques contienen información (más que nada *transacciones*), y se vinculan mediante un *hash*. Cada bloque tiene un hash SHA256 en su cabecera, y se vincula con el bloque anterior teniendo su hash como puntero. El primer bloque no tiene un anterior, y se llama *Bloque génesis*"
   ]
  },
  {
   "cell_type": "code",
   "execution_count": null,
   "metadata": {
    "slideshow": {
     "slide_type": "slide"
    }
   },
   "outputs": [],
   "source": [
    "from hashlib import sha256\n",
    "# Una función de hash toma una entrada de largo variable \n",
    "# y la convierte en una cadena de largo fijo\n",
    "h = sha256(\"el último meetup del año\".encode()).hexdigest()\n",
    "print(h)"
   ]
  },
  {
   "cell_type": "markdown",
   "metadata": {
    "slideshow": {
     "slide_type": "slide"
    }
   },
   "source": [
    "# ¿Qué es blockchain?"
   ]
  },
  {
   "cell_type": "markdown",
   "metadata": {
    "slideshow": {
     "slide_type": "fragment"
    }
   },
   "source": [
    "- **IS II**: arquitectura de software que plantea un sistema totalmente distribuido, en donde toda la información que se almacene será **única** e **inmutable**"
   ]
  },
  {
   "cell_type": "markdown",
   "metadata": {
    "slideshow": {
     "slide_type": "fragment"
    }
   },
   "source": [
    "- **RTyD**: red de computadoras *P2P* que se comunican mediante un protocolo de capa de aplicación (corre sobre TCP), sin un coordinador o nodo central"
   ]
  },
  {
   "cell_type": "markdown",
   "metadata": {
    "slideshow": {
     "slide_type": "fragment"
    }
   },
   "source": [
    "- **SD**: sistema *descentralizado* totalmente replicado (todos los nodos *pueden* tener una copia entera de toda la base de datos) que implementa un algoritmo de *consenso distribuido* para agregar nuevos datos "
   ]
  },
  {
   "cell_type": "markdown",
   "metadata": {
    "slideshow": {
     "slide_type": "slide"
    }
   },
   "source": [
    "*Descentralizado* $\\neq$ *Distribuido*\n",
    "\n",
    "En los sistemas distribuidos existe una **autoridad central** que gobierna el sistema entero.\n",
    "\n",
    "Los sistemas descentralizados se componen de nodos que no son dependientes de un nodo maestro; el control se distribuye entre los nodos"
   ]
  },
  {
   "cell_type": "markdown",
   "metadata": {
    "slideshow": {
     "slide_type": "slide"
    }
   },
   "source": [
    "# ¿Qué es blockchain?"
   ]
  },
  {
   "cell_type": "markdown",
   "metadata": {
    "slideshow": {
     "slide_type": "fragment"
    }
   },
   "source": [
    "- **ARyS**: sistema distribuido que utiliza criptografía asimétrica para verificar las transacciones, y que se basa en el cálculo de hashes para agregar nuevos datos a la red"
   ]
  },
  {
   "cell_type": "markdown",
   "metadata": {
    "slideshow": {
     "slide_type": "fragment"
    }
   },
   "source": [
    "- **ALyP**: infraestructura de computadoras en la que no hay dependencia de un ente central para verificar los datos y mantener la integridad. Es transparente y seguro"
   ]
  },
  {
   "cell_type": "markdown",
   "metadata": {
    "slideshow": {
     "slide_type": "slide"
    }
   },
   "source": [
    "# Características de blockchain - Teorema CAP"
   ]
  },
  {
   "cell_type": "markdown",
   "metadata": {
    "slideshow": {
     "slide_type": "fragment"
    }
   },
   "source": [
    "### Planteado por Eric Brewer en el 1998, demostrado en el 2002 por Seth Gilbert y Nancy Lynch"
   ]
  },
  {
   "cell_type": "markdown",
   "metadata": {
    "slideshow": {
     "slide_type": "fragment"
    }
   },
   "source": [
    "#### Ningún sistema distribuido puede tener las tres propiedades al mismo tiempo, simultáneamente"
   ]
  },
  {
   "cell_type": "markdown",
   "metadata": {
    "slideshow": {
     "slide_type": "slide"
    }
   },
   "source": [
    "# Características de blockchain - Teorema CAP"
   ]
  },
  {
   "cell_type": "markdown",
   "metadata": {
    "slideshow": {
     "slide_type": "fragment"
    }
   },
   "source": [
    "- ***Consistency***: *todos los nodos en un sistema distribuido tienen una copia de la información más actualizada*\n",
    "- ***Availability***: *el sistema está activo, accesible, y aceptando peticiones entrantes y respondiendo con datos sin fallar en el intento*\n",
    "- ***Partition tolerance***: *si un grupo de nodos se cae, el sistema sigue funcionando correctamente*"
   ]
  },
  {
   "cell_type": "markdown",
   "metadata": {
    "slideshow": {
     "slide_type": "slide"
    }
   },
   "source": [
    "# Características de blockchain - Teorema CAP"
   ]
  },
  {
   "cell_type": "markdown",
   "metadata": {
    "slideshow": {
     "slide_type": "fragment"
    }
   },
   "source": [
    "- En blockchain, la **Consistencia** se obtiene a lo largo del tiempo, se prioriza más la **Disponibilidad** y la **Tolerancia a fallos**.\n",
    "- La consistencia se logra como resultado de la validación de múltiples nodos -lo cual lleva tiempo-, gracias a la **minería**"
   ]
  },
  {
   "cell_type": "markdown",
   "metadata": {
    "slideshow": {
     "slide_type": "slide"
    }
   },
   "source": [
    "# Minería"
   ]
  },
  {
   "cell_type": "markdown",
   "metadata": {
    "slideshow": {
     "slide_type": "fragment"
    }
   },
   "source": [
    "- La minería de bloques consiste en **calcular el hash del próximo bloque**\n",
    "- Se calcula el hash de todas las transacciones que contiene el bloque, sumado el hash del bloque anterior"
   ]
  },
  {
   "cell_type": "markdown",
   "metadata": {
    "slideshow": {
     "slide_type": "fragment"
    }
   },
   "source": [
    "- El hash resultante debe **comenzar** una *n* cantidad de 0s / El hash resultante debe ser menor a un _target_ \n",
    "- *n* $\\rightarrow$ dificultad de la red"
   ]
  },
  {
   "cell_type": "markdown",
   "metadata": {
    "slideshow": {
     "slide_type": "slide"
    }
   },
   "source": [
    "# Minería"
   ]
  },
  {
   "cell_type": "markdown",
   "metadata": {
    "slideshow": {
     "slide_type": "fragment"
    }
   },
   "source": [
    "- Los bloques cuentan con un campo llamado *nonce*\n",
    "- Es un número arbitrario que los mineros van incrementando para poder obtener el hash necesario\n",
    "- El minero que encuentra el hash, **se lleva una recompensa** (12.5 bitcoin al día de hoy, en la blockchain de Bitcoin)"
   ]
  },
  {
   "cell_type": "code",
   "execution_count": null,
   "metadata": {
    "slideshow": {
     "slide_type": "slide"
    }
   },
   "outputs": [],
   "source": [
    "import requests as req\n",
    "\n",
    "def get_btc():\n",
    "    res = req.get(\"https://api.coindesk.com/v1/bpi/currentprice.json\")\n",
    "    return res.json()"
   ]
  },
  {
   "cell_type": "code",
   "execution_count": null,
   "metadata": {
    "slideshow": {
     "slide_type": "fragment"
    }
   },
   "outputs": [],
   "source": [
    "btc = get_btc()['bpi']['USD']['rate_float']\n",
    "coinbase_transaction = 12.5\n",
    "print(f\"Minar un bloque tiene una recompense de {btc * coinbase_transaction} dólares\")"
   ]
  },
  {
   "cell_type": "markdown",
   "metadata": {
    "slideshow": {
     "slide_type": "slide"
    }
   },
   "source": [
    "# Implementación de una blockchain en Python\n",
    "## Tomado de [acá](https://github.com/howCodeORG/Simple-Python-Blockchain)"
   ]
  },
  {
   "cell_type": "code",
   "execution_count": null,
   "metadata": {
    "slideshow": {
     "slide_type": "slide"
    }
   },
   "outputs": [],
   "source": [
    "from datetime import datetime\n",
    "from hashlib import sha256"
   ]
  },
  {
   "cell_type": "code",
   "execution_count": null,
   "metadata": {
    "slideshow": {
     "slide_type": "slide"
    }
   },
   "outputs": [],
   "source": [
    "class Block:\n",
    "    blockNo = 0\n",
    "    data = None\n",
    "    next = None\n",
    "    hash = None\n",
    "    nonce = 0\n",
    "    previous_hash = 0x0\n",
    "    timestamp = datetime.now()\n",
    "\n",
    "    def __init__(self, data):\n",
    "        self.data = data\n",
    "\n",
    "    def hash(self):\n",
    "        h = sha256()\n",
    "        h.update(\n",
    "            str(self.nonce).encode('utf-8') +\n",
    "            str(self.data).encode('utf-8') +\n",
    "            str(self.previous_hash).encode('utf-8') +\n",
    "            str(self.timestamp).encode('utf-8') +\n",
    "            str(self.blockNo).encode('utf-8')\n",
    "        )\n",
    "        return h.hexdigest()\n",
    "\n",
    "    def __repr__(self):\n",
    "        return f\"\"\"Block Hash: {str(self.hash())}\n",
    "    BlockNo: {str(self.blockNo)}\n",
    "    Block Data: {self.data}\n",
    "    Hashes: {self.nonce}\n",
    "--------------------\"\"\"\n"
   ]
  },
  {
   "cell_type": "code",
   "execution_count": null,
   "metadata": {
    "slideshow": {
     "slide_type": "slide"
    }
   },
   "outputs": [],
   "source": [
    "class Blockchain:\n",
    "\n",
    "    diff = 15\n",
    "    maxNonce = 2**32\n",
    "    target = 2 ** (256-diff)\n",
    "\n",
    "    block = Block(\"Genesis\")\n",
    "    _ = head = block\n",
    "\n",
    "    def add(self, block):\n",
    "\n",
    "        block.previous_hash = self.block.hash()\n",
    "        block.blockNo = self.block.blockNo + 1\n",
    "\n",
    "        self.block.next = block\n",
    "        self.block = self.block.next\n",
    "\n",
    "    def mine(self, block):\n",
    "        for n in range(self.maxNonce):\n",
    "            if int(block.hash(), 16) <= self.target:\n",
    "                self.add(block)\n",
    "                break\n",
    "            else:\n",
    "                block.nonce += 1\n",
    "    \n",
    "    def __iter__(self):\n",
    "        return self\n",
    "    \n",
    "    def __next__(self):\n",
    "        if self.head == None:\n",
    "            raise StopIteration() \n",
    "        \n",
    "        _block = self.head\n",
    "        self.head = self.head.next\n",
    "        return _block"
   ]
  },
  {
   "cell_type": "code",
   "execution_count": null,
   "metadata": {
    "slideshow": {
     "slide_type": "slide"
    }
   },
   "outputs": [],
   "source": [
    "blockchain = Blockchain()"
   ]
  },
  {
   "cell_type": "code",
   "execution_count": null,
   "metadata": {
    "slideshow": {
     "slide_type": "fragment"
    }
   },
   "outputs": [],
   "source": [
    "for n in range(10):\n",
    "    blockchain.mine(Block(\"Block \" + str(n+1)))"
   ]
  },
  {
   "cell_type": "code",
   "execution_count": null,
   "metadata": {
    "slideshow": {
     "slide_type": "slide"
    }
   },
   "outputs": [],
   "source": [
    "for block in blockchain:\n",
    "    print(block)"
   ]
  },
  {
   "cell_type": "markdown",
   "metadata": {
    "slideshow": {
     "slide_type": "slide"
    }
   },
   "source": [
    "# Para saber más\n",
    "\n",
    "- Repositorio de la chara $\\rightarrow$ https://github.com/LucianoFromTrelew/meetup-blockchain\n",
    "- [*Mastering Blockchain*, PacktPub](https://www.packtpub.com/big-data-and-business-intelligence/mastering-blockchain-second-edition)\n",
    "- [A Beginner's Guide to Blockchain Technology](https://www.coindesk.com/information)\n",
    "- [Bitcoin: A Peer-to-Peer Electronic Cash System](https://bitcoin.org/bitcoin.pdf)\n",
    "- [Bitcoin: Un Sistema de Efectivo Electrónico Usuario-a-Usuario](https://bitcoin.org/files/bitcoin-paper/bitcoin_es_latam.pdf)"
   ]
  },
  {
   "cell_type": "markdown",
   "metadata": {
    "slideshow": {
     "slide_type": "slide"
    }
   },
   "source": [
    "# Escucho sus preguntas"
   ]
  },
  {
   "cell_type": "markdown",
   "metadata": {
    "slideshow": {
     "slide_type": "slide"
    }
   },
   "source": [
    "# ¡Muchas gracias!"
   ]
  }
 ],
 "metadata": {
  "celltoolbar": "Slideshow",
  "kernelspec": {
   "display_name": "Python 3",
   "language": "python",
   "name": "python3"
  },
  "language_info": {
   "codemirror_mode": {
    "name": "ipython",
    "version": 3
   },
   "file_extension": ".py",
   "mimetype": "text/x-python",
   "name": "python",
   "nbconvert_exporter": "python",
   "pygments_lexer": "ipython3",
   "version": "3.7.0"
  }
 },
 "nbformat": 4,
 "nbformat_minor": 2
}
