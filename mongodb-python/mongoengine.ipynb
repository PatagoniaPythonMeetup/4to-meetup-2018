{
 "cells": [
  {
   "cell_type": "markdown",
   "metadata": {
    "slideshow": {
     "slide_type": "slide"
    }
   },
   "source": [
    "# Usando MongoDB con Python\n",
    "## Una Historia de Esperanza y Supervivencia\n",
    "\n",
    "### Pablo Toledo\n",
    "\n",
    "Twitter: [@t_papablo](https://twitter.com/t_papablo)\n",
    "\n",
    "Telegram: [papablot](t.me/papablot)"
   ]
  },
  {
   "cell_type": "markdown",
   "metadata": {
    "slideshow": {
     "slide_type": "slide"
    }
   },
   "source": [
    "# A long time ago...\n",
    "\n",
    "* Necesidad de almacenar información\n",
    "* Los atributos y estructura podían cambiar\n",
    "* Podíamos aprender algo nuevo :)"
   ]
  },
  {
   "cell_type": "markdown",
   "metadata": {},
   "source": [
    "# MongoDB\n",
    "\n",
    "* Orientada a Documentos\n",
    "* Habla en términos de JSON"
   ]
  },
  {
   "cell_type": "markdown",
   "metadata": {},
   "source": [
    "# MongoDB con Python\n",
    "\n",
    "* [Mongoengine](mongoengine.org)\n",
    "    * ODM (Object Document Mapper)\n",
    "![mongoengine](./mongoengine.png)"
   ]
  },
  {
   "cell_type": "markdown",
   "metadata": {},
   "source": [
    "* Soporte para varios frameworks\n",
    "\n",
    "![soportes](./mongoengine-cosas.png)"
   ]
  },
  {
   "cell_type": "markdown",
   "metadata": {},
   "source": [
    "![django](./django-mongo.png)"
   ]
  },
  {
   "cell_type": "markdown",
   "metadata": {},
   "source": [
    "![flask](./flask-mongo.png)"
   ]
  },
  {
   "cell_type": "code",
   "execution_count": 85,
   "metadata": {},
   "outputs": [],
   "source": [
    "import mongoengine"
   ]
  },
  {
   "cell_type": "code",
   "execution_count": 86,
   "metadata": {},
   "outputs": [
    {
     "data": {
      "text/plain": [
       "{'db': 'mongopy_db',\n",
       " 'username': 'mongopy',\n",
       " 'password': 'm0ng0py',\n",
       " 'host': 'localhost',\n",
       " 'port': 27020,\n",
       " 'alias': 'default'}"
      ]
     },
     "execution_count": 86,
     "metadata": {},
     "output_type": "execute_result"
    }
   ],
   "source": [
    "\n",
    "# Connect\n",
    "mongo_connection = {\n",
    "    'db':'mongopy_db',\n",
    "    'username' : 'mongopy',\n",
    "    'password' : 'm0ng0py',\n",
    "    'host' : 'localhost',\n",
    "    'port':27020,\n",
    "    'alias' : 'default'\n",
    "}\n",
    "\n",
    "mongoengine.connect(\n",
    "    db=mongo_connection['db'],\n",
    "    username=mongo_connection['username'],\n",
    "    password=mongo_connection['password'],\n",
    "    host=mongo_connection['host'],\n",
    "    port=mongo_connection['port'],\n",
    "    alias=mongo_connection['alias']\n",
    ")\n",
    "\n",
    "mongo_connection"
   ]
  },
  {
   "cell_type": "code",
   "execution_count": 87,
   "metadata": {},
   "outputs": [],
   "source": [
    "from mongoengine import Document, fields"
   ]
  },
  {
   "cell_type": "code",
   "execution_count": 4,
   "metadata": {},
   "outputs": [],
   "source": [
    "class Persona(Document):\n",
    "    nombre = fields.StringField(max_length=40)\n",
    "    edad = fields.IntField(min_value=0)\n",
    "    \n",
    "    def __str__(self):\n",
    "        return f'nombre: {self.nombre} | edad: {self.edad}'"
   ]
  },
  {
   "cell_type": "code",
   "execution_count": 96,
   "metadata": {},
   "outputs": [
    {
     "data": {
      "text/plain": [
       "<Persona: nombre: Pablo | edad: 22>"
      ]
     },
     "execution_count": 96,
     "metadata": {},
     "output_type": "execute_result"
    }
   ],
   "source": [
    "persona = Persona(nombre='Pablo',edad=22)\n",
    "persona.save()"
   ]
  },
  {
   "cell_type": "code",
   "execution_count": 97,
   "metadata": {},
   "outputs": [
    {
     "data": {
      "text/plain": [
       "{'_id': {'$oid': '5c1570b5dbda691225587183'}, 'nombre': 'Pablo', 'edad': 22}"
      ]
     },
     "execution_count": 97,
     "metadata": {},
     "output_type": "execute_result"
    }
   ],
   "source": [
    "persona.to_json()\n",
    "from json import loads\n",
    "\n",
    "loads(persona.to_json())"
   ]
  },
  {
   "cell_type": "code",
   "execution_count": 98,
   "metadata": {},
   "outputs": [],
   "source": [
    "import random\n",
    "\n",
    "with open('archivito.txt','r') as archivo:\n",
    "    lineas = archivo.readlines()[0]\n",
    "    for l in lineas.split():\n",
    "        Persona(nombre=l.lower(),edad=random.randint(20,40)).save()"
   ]
  },
  {
   "cell_type": "code",
   "execution_count": 104,
   "metadata": {},
   "outputs": [
    {
     "data": {
      "text/plain": [
       "[<Persona: nombre: Pablo | edad: 22>, <Persona: nombre: Pablo | edad: 22>, <Persona: nombre: Pablo | edad: 22>, <Persona: nombre: Pablo | edad: 22>, <Persona: nombre: Pablo | edad: 22>, <Persona: nombre: Pablo | edad: 22>, <Persona: nombre: Pablo | edad: 22>, <Persona: nombre: Pablo | edad: 22>]"
      ]
     },
     "execution_count": 104,
     "metadata": {},
     "output_type": "execute_result"
    }
   ],
   "source": [
    "# Cueris\n",
    "\n",
    "Persona.objects.filter(edad=22).filter(nombre='Pablo')"
   ]
  },
  {
   "cell_type": "code",
   "execution_count": 106,
   "metadata": {},
   "outputs": [
    {
     "data": {
      "text/plain": [
       "[<Persona: nombre: ipsum | edad: 28>, <Persona: nombre: dolor | edad: 21>, <Persona: nombre: sit | edad: 39>, <Persona: nombre: sadipscing | edad: 28>, <Persona: nombre: elitr | edad: 28>, <Persona: nombre: sed | edad: 31>, <Persona: nombre: nonumy | edad: 21>, <Persona: nombre: eirmod | edad: 34>, <Persona: nombre: tempor | edad: 30>, <Persona: nombre: invidunt | edad: 29>, <Persona: nombre: ut | edad: 35>, <Persona: nombre: labore | edad: 28>, <Persona: nombre: dolore | edad: 29>, <Persona: nombre: magna | edad: 38>, <Persona: nombre: aliquyam | edad: 22>, <Persona: nombre: erat | edad: 27>, <Persona: nombre: sed | edad: 35>, <Persona: nombre: diam | edad: 24>, <Persona: nombre: voluptua | edad: 20>, <Persona: nombre: vero | edad: 26>, '...(remaining elements truncated)...']"
      ]
     },
     "execution_count": 106,
     "metadata": {},
     "output_type": "execute_result"
    }
   ],
   "source": [
    "# Cueris con objetos Q\n",
    "from mongoengine import Q\n",
    "\n",
    "q = Q(edad__lt=35) | Q(nombre__gt='lorem')\n",
    "\n",
    "Persona.objects.filter(q)"
   ]
  },
  {
   "cell_type": "code",
   "execution_count": 108,
   "metadata": {},
   "outputs": [
    {
     "data": {
      "text/plain": [
       "8"
      ]
     },
     "execution_count": 108,
     "metadata": {},
     "output_type": "execute_result"
    }
   ],
   "source": [
    "Persona.objects.filter(nombre='Pablo').delete()"
   ]
  },
  {
   "cell_type": "code",
   "execution_count": 112,
   "metadata": {},
   "outputs": [],
   "source": [
    "# %load heroes.py\n",
    "from mongoengine import fields\n",
    "import mongoengine_goodjson as gj\n",
    "\n",
    "# Docuementos almacenados en colecciones propias\n",
    "class Localidad(gj.Document):\n",
    "    nombre = fields.StringField(max_length=50)\n",
    "\n",
    "# Documentos que no requieren su propia colección\n",
    "class Superpoder(gj.EmbeddedDocument):\n",
    "    nombre = fields.StringField(max_length=100, required=True)\n",
    "    descripcion = fields.StringField(max_length=300, required=False)\n",
    "\n",
    "#Documentos con documentos adentro\n",
    "class Heroe(gj.Document):\n",
    "    nombre = fields.StringField(max_length=50, required=True)\n",
    "\n",
    "    superpoder = fields.EmbeddedDocumentField(Superpoder, required=False)\n",
    "    \n",
    "    localidad = fields.ReferenceField(Localidad,required=True)\n",
    "    \n",
    "    # File fields!\n",
    "    historia = fields.FileField(required=False)\n",
    "\n",
    "    def __str__(self):\n",
    "        return f'{self.nombre} | {self.superpoder.nombre}'\n",
    "# We have to go deeper\n",
    "class Liga(gj.Document):\n",
    "    nombre = fields.StringField(max_length=100)\n",
    "\n",
    "    lugar = fields.ReferenceField(Localidad, requered=False)\n",
    "\n",
    "    integrantes = fields.ListField(\n",
    "        fields.ReferenceField(Heroe),\n",
    "        required=False\n",
    "    )\n"
   ]
  },
  {
   "cell_type": "code",
   "execution_count": 121,
   "metadata": {
    "slideshow": {
     "slide_type": "slide"
    }
   },
   "outputs": [],
   "source": [
    "superpoder = Superpoder(nombre='plata', descripcion='mucha plata')\n",
    "\n",
    "batman = Heroe(nombre='batman',superpoder=superpoder, localidad=Localidad(nombre='Ciudad Gótica').save())"
   ]
  },
  {
   "cell_type": "code",
   "execution_count": 122,
   "metadata": {
    "slideshow": {
     "slide_type": "slide"
    }
   },
   "outputs": [
    {
     "data": {
      "text/plain": [
       "<Heroe: batman | plata>"
      ]
     },
     "execution_count": 122,
     "metadata": {},
     "output_type": "execute_result"
    }
   ],
   "source": [
    "batman.save()"
   ]
  },
  {
   "cell_type": "code",
   "execution_count": 126,
   "metadata": {},
   "outputs": [
    {
     "data": {
      "text/plain": [
       "['{\"nombre\": \"batman\", \"superpoder\": {\"nombre\": \"plata\", \"descripcion\": \"mucha plata\"}, \"localidad\": {\"nombre\": \"Ciudad G\\\\u00f3tica\", \"id\": \"5c157301dbda6912255871b8\"}, \"id\": \"5c157301dbda6912255871b9\"}']"
      ]
     },
     "execution_count": 126,
     "metadata": {},
     "output_type": "execute_result"
    }
   ],
   "source": [
    "[h.to_json(follow_reference=True) for h in Heroe.objects.all()]"
   ]
  },
  {
   "cell_type": "code",
   "execution_count": 128,
   "metadata": {},
   "outputs": [
    {
     "data": {
      "text/plain": [
       "<Heroe: batman | plata>"
      ]
     },
     "execution_count": 128,
     "metadata": {},
     "output_type": "execute_result"
    }
   ],
   "source": [
    "batman"
   ]
  },
  {
   "cell_type": "code",
   "execution_count": 133,
   "metadata": {},
   "outputs": [],
   "source": [
    "file_handler = open('archivito.txt','rb')\n"
   ]
  },
  {
   "cell_type": "code",
   "execution_count": 146,
   "metadata": {},
   "outputs": [],
   "source": [
    "batman.historia.delete()"
   ]
  }
 ],
 "metadata": {
  "celltoolbar": "Slideshow",
  "kernelspec": {
   "display_name": "Python 3",
   "language": "python",
   "name": "python3"
  },
  "language_info": {
   "codemirror_mode": {
    "name": "ipython",
    "version": 3
   },
   "file_extension": ".py",
   "mimetype": "text/x-python",
   "name": "python",
   "nbconvert_exporter": "python",
   "pygments_lexer": "ipython3",
   "version": "3.7.1"
  }
 },
 "nbformat": 4,
 "nbformat_minor": 2
}
